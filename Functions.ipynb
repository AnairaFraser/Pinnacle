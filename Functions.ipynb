{
 "cells": [
  {
   "cell_type": "code",
   "execution_count": 1,
   "id": "012b57ba",
   "metadata": {},
   "outputs": [],
   "source": [
    "from math import prod,factorial as F #Run this cell before running anything else"
   ]
  },
  {
   "cell_type": "markdown",
   "id": "0b7e3dae",
   "metadata": {},
   "source": [
    "# Exercise 1: Find Square"
   ]
  },
  {
   "cell_type": "code",
   "execution_count": 2,
   "id": "71a6dfa0",
   "metadata": {},
   "outputs": [
    {
     "name": "stdout",
     "output_type": "stream",
     "text": [
      "Enter a number: 8\n",
      "8² = 64\n"
     ]
    }
   ],
   "source": [
    "'''\n",
    "Input: an integer n\n",
    "Output: the square of the integer\n",
    "'''\n",
    "def find_square(n): return n**2\n",
    "\n",
    "x = int(input('Enter a number: '))\n",
    "y = find_square(x)\n",
    "print(f'{x}² = {y}')"
   ]
  },
  {
   "cell_type": "markdown",
   "id": "1b25acdb",
   "metadata": {},
   "source": [
    "# Exercise 2: Find Sum"
   ]
  },
  {
   "cell_type": "code",
   "execution_count": 3,
   "id": "45ea8a83",
   "metadata": {},
   "outputs": [
    {
     "name": "stdout",
     "output_type": "stream",
     "text": [
      "Enter a number: 100\n",
      "Sum of first 100 number(s): 5050\n"
     ]
    }
   ],
   "source": [
    "'''\n",
    "Input: an integer n\n",
    "Output: the sum of the first n integers\n",
    "'''\n",
    "def find_sum(n): return n*(n+1)//2\n",
    "\n",
    "x = int(input('Enter a number: '))\n",
    "if x<0: print('Invalid Input')\n",
    "else:\n",
    "    y = find_sum(x)\n",
    "    print(f'Sum of first {x} number(s): {y}')"
   ]
  },
  {
   "cell_type": "markdown",
   "id": "b29b1092",
   "metadata": {},
   "source": [
    "# Exercise 3: Functions"
   ]
  },
  {
   "cell_type": "markdown",
   "id": "e2a44c4c",
   "metadata": {},
   "source": [
    "### 1) Factorial"
   ]
  },
  {
   "cell_type": "code",
   "execution_count": 4,
   "id": "ceb90618",
   "metadata": {},
   "outputs": [
    {
     "name": "stdout",
     "output_type": "stream",
     "text": [
      "Enter a number: 8\n",
      "8! = 40320\n"
     ]
    }
   ],
   "source": [
    "'''\n",
    "Input: an integer n\n",
    "Output: the factorial of n\n",
    "'''\n",
    "def fact(n):\n",
    "    if n: return prod([i for i in range(1,n+1)])\n",
    "    else: return 1\n",
    "\n",
    "x = int(input('Enter a number: '))\n",
    "if x<0: print('Invalid Input')\n",
    "else:\n",
    "    y = fact(x)\n",
    "    print(f'{x}! = {y}')"
   ]
  },
  {
   "cell_type": "markdown",
   "id": "31aadb78",
   "metadata": {},
   "source": [
    "### 2) Numerical Palindrome"
   ]
  },
  {
   "cell_type": "code",
   "execution_count": 5,
   "id": "4facfe7f",
   "metadata": {},
   "outputs": [
    {
     "name": "stdout",
     "output_type": "stream",
     "text": [
      "123456787654321\n",
      "123456787654321 is a palindrome\n"
     ]
    }
   ],
   "source": [
    "'''\n",
    "Input: a numerical string n\n",
    "Output: True, if n is palindromic; False, otherwise\n",
    "'''\n",
    "def is_palindrome(n): return n==n[::-1]\n",
    "\n",
    "x = input()\n",
    "if x.isdigit(): #checks if string is numerical\n",
    "    if is_palindrome(x): print(f'{x} is a palindrome')\n",
    "    else: print(f'{x} is NOT a palindrome')\n",
    "else: print(f'\\\"{x}\\\" is not a valid input...')"
   ]
  },
  {
   "cell_type": "markdown",
   "id": "93cf70f8",
   "metadata": {},
   "source": [
    "### 3) Amicable Numbers"
   ]
  },
  {
   "cell_type": "code",
   "execution_count": 6,
   "id": "851d67de",
   "metadata": {},
   "outputs": [
    {
     "name": "stdout",
     "output_type": "stream",
     "text": [
      "Enter a number: 220\n",
      "Enter another number: 284\n",
      "\n",
      "220 and 284 are amicable\n"
     ]
    }
   ],
   "source": [
    "'''\n",
    "Inputs: two integers a and b\n",
    "Output: True, if a and b are amicable; False, otherwise\n",
    "\n",
    "Note: by definition, a and b are amicable if the factors of a are equal to b, and the factors of b are equal to a\n",
    "'''\n",
    "\n",
    "def amicable(a,b):\n",
    "    F1 = [i for i in range(1,a) if a%i==0] #factorials of a\n",
    "    F2 = [j for j in range(1,b) if b%j==0] #factorials of b\n",
    "    return sum(F1)==b and sum(F2)==a\n",
    "\n",
    "p = int(input('Enter a number: '))\n",
    "q = int(input('Enter another number: '))\n",
    "print()\n",
    "if p<=0 or q<=0: print('Invalid Input')\n",
    "elif amicable(p,q): print(f'{p} and {q} are amicable')\n",
    "else: print(f'{p} and {q} are NOT amicable')"
   ]
  },
  {
   "cell_type": "markdown",
   "id": "d43dc165",
   "metadata": {},
   "source": [
    "### 4) Right Shift"
   ]
  },
  {
   "cell_type": "code",
   "execution_count": 7,
   "id": "9671363a",
   "metadata": {},
   "outputs": [
    {
     "name": "stdout",
     "output_type": "stream",
     "text": [
      "Enter a number: 1000\n",
      "Enter another number: 8\n",
      "\n",
      "In Decimal Notation: 1000 >> 8 = 3\n",
      "In Binary Notation: 1111101000 >> 8 = 0000000011\n"
     ]
    }
   ],
   "source": [
    "'''\n",
    "Input: two positive numbers n and s\n",
    "Output: the integer shifted right s times\n",
    "'''\n",
    "def right_shift(n,s): return n >> s\n",
    "\n",
    "x = int(input('Enter a number: '))\n",
    "s = int(input('Enter another number: '))\n",
    "print()\n",
    "if x<0 or s<0: print('Invalid Input')\n",
    "else:\n",
    "    y = right_shift(x,s)\n",
    "    print(f'In Decimal Notation: {x} >> {s} = {y}')\n",
    "    b1 = bin(x)[2:]\n",
    "    b2 = bin(y)[2:].zfill(len(b1))\n",
    "    print(f'In Binary Notation: {b1} >> {s} = {b2}')"
   ]
  },
  {
   "cell_type": "markdown",
   "id": "629d854d",
   "metadata": {},
   "source": [
    "### 5) Strong Numbers"
   ]
  },
  {
   "cell_type": "code",
   "execution_count": 8,
   "id": "9efa8098",
   "metadata": {},
   "outputs": [
    {
     "name": "stdout",
     "output_type": "stream",
     "text": [
      "145\n",
      "145 is a strong number\n"
     ]
    }
   ],
   "source": [
    "'''\n",
    "Input: an integer n\n",
    "Output: True, if n is a strong number; False, otherwise\n",
    "\n",
    "Note: a number is strong if it's equal to the sum of the factorial of its digits\n",
    "'''\n",
    "def strong(n):\n",
    "    try: return int(n)==sum([fact(int(i)) for i in n]) #if factorial code is invoked\n",
    "    except: return int(n)==sum([F(int(i)) for i in n]) #if factorial code is not invoked\n",
    "\n",
    "x = input()\n",
    "if x.isdigit():\n",
    "    if strong(x): print(f'{x} is a strong number')\n",
    "    else: print(f'{x} is NOT a strong number')\n",
    "else: print('Invalid Input')"
   ]
  }
 ],
 "metadata": {
  "kernelspec": {
   "display_name": "Python 3",
   "language": "python",
   "name": "python3"
  },
  "language_info": {
   "codemirror_mode": {
    "name": "ipython",
    "version": 3
   },
   "file_extension": ".py",
   "mimetype": "text/x-python",
   "name": "python",
   "nbconvert_exporter": "python",
   "pygments_lexer": "ipython3",
   "version": "3.8.8"
  }
 },
 "nbformat": 4,
 "nbformat_minor": 5
}
