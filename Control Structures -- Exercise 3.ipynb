{
 "cells": [
  {
   "cell_type": "markdown",
   "id": "3723704e",
   "metadata": {},
   "source": [
    "## 1) Leap Year"
   ]
  },
  {
   "cell_type": "code",
   "execution_count": 1,
   "id": "172a10fd",
   "metadata": {},
   "outputs": [
    {
     "name": "stdout",
     "output_type": "stream",
     "text": [
      "Enter a year: 2000\n",
      "2000 is a leap year\n"
     ]
    }
   ],
   "source": [
    "y = int(input('Enter a year: '))\n",
    "\n",
    "#By definition, a leap year is an integer divisible by 4, but not divisible by 100 (unless divisible by 400)\n",
    "P1 = y % 4 == 0\n",
    "P2 = y % 100 != 0\n",
    "P3 = y % 400 == 0\n",
    "\n",
    "if (P1 and P2) or P3: print(f'{y} is a leap year')\n",
    "else: print(f'{y} is NOT a leap year')"
   ]
  },
  {
   "cell_type": "markdown",
   "id": "1495c930",
   "metadata": {},
   "source": [
    "## 2) Maximum"
   ]
  },
  {
   "cell_type": "code",
   "execution_count": 2,
   "id": "3f0a81d9",
   "metadata": {},
   "outputs": [
    {
     "name": "stdout",
     "output_type": "stream",
     "text": [
      "Enter a number: 3.14\n",
      "Enter another number: 1.61\n",
      "Enter a third number: 10.00\n",
      "\n",
      "Maximum: 10\n"
     ]
    }
   ],
   "source": [
    "a = float(input('Enter a number: '))\n",
    "b = float(input('Enter another number: '))\n",
    "\n",
    "if a>b: hi = a\n",
    "else: hi = b\n",
    "\n",
    "c = float(input('Enter a third number: '))\n",
    "if c > hi: hi = c\n",
    "if hi%1==0: hi=int(hi) #Converts float to int if it can be expressed as one\n",
    "\n",
    "print(f'\\nMaximum: {hi}')"
   ]
  },
  {
   "cell_type": "code",
   "execution_count": 3,
   "id": "3eed97ef",
   "metadata": {},
   "outputs": [
    {
     "name": "stdout",
     "output_type": "stream",
     "text": [
      "Maximum: 10\n"
     ]
    }
   ],
   "source": [
    "#Without using if-else statements\n",
    "\n",
    "hi = max([a,b,c])\n",
    "if hi%1==0: hi=int(hi)\n",
    "print(f'Maximum: {hi}')"
   ]
  },
  {
   "cell_type": "markdown",
   "id": "2c650765",
   "metadata": {},
   "source": [
    "## 3) Prime Numbers"
   ]
  },
  {
   "cell_type": "code",
   "execution_count": 4,
   "id": "fa5e991e",
   "metadata": {},
   "outputs": [
    {
     "name": "stdout",
     "output_type": "stream",
     "text": [
      "Enter a number: 521\n",
      "521 is a prime number\n"
     ]
    }
   ],
   "source": [
    "n = int(input('Enter a number: '))\n",
    "if n<=1: print(f'{n} is neither prime nor composite')\n",
    "else:\n",
    "    p = True #assumes n is prime\n",
    "    for i in range(2,n):\n",
    "        if n%i==0: p = False;break\n",
    "    if p: print(f'{n} is a prime number')\n",
    "    else: print(f'{n} is a composite number')"
   ]
  },
  {
   "cell_type": "markdown",
   "id": "19b9182c",
   "metadata": {},
   "source": [
    "## 4) Fibonacci Numbers"
   ]
  },
  {
   "cell_type": "code",
   "execution_count": 5,
   "id": "bb7ca1df",
   "metadata": {},
   "outputs": [
    {
     "name": "stdout",
     "output_type": "stream",
     "text": [
      "Enter a number: 15\n",
      "First 15 numbers in the Fibonacci sequence: 0 1 1 2 3 5 8 13 21 34 55 89 144 233 377\n"
     ]
    }
   ],
   "source": [
    "f = int(input('Enter a number: '))\n",
    "if f==1: print('First number in the Fibonacci sequence:\\n0')\n",
    "else:\n",
    "    print(f'First {f} numbers in the Fibonacci sequence:', end = ' ')\n",
    "    arr = [0,1]\n",
    "    while len(arr) != f: arr.append(sum(arr[-2:]))\n",
    "    print(*arr)"
   ]
  },
  {
   "cell_type": "markdown",
   "id": "4e89e50f",
   "metadata": {},
   "source": [
    "## 5) Salary Hike"
   ]
  },
  {
   "cell_type": "code",
   "execution_count": 6,
   "id": "3c2de26c",
   "metadata": {},
   "outputs": [
    {
     "name": "stdout",
     "output_type": "stream",
     "text": [
      "What's your job level? 3\n",
      "What's your salary? 1750\n",
      "\n",
      "Your salary is now $2012.50\n"
     ]
    }
   ],
   "source": [
    "JL3 = 0.15\n",
    "JL4 = 0.07\n",
    "JL5 = 0.05\n",
    "\n",
    "l = int(input('What\\'s your job level? '))\n",
    "s = float(input('What\\'s your salary? '))\n",
    "if l not in (3,4,5): print('\\nYour salary is still $%.2f' % s)\n",
    "else:\n",
    "    if l==3: s*=(1+JL3)\n",
    "    elif l==4:s*=(1+JL4)\n",
    "    else: s*=(1+JL5)\n",
    "    print('\\nYour salary is now $%.2f' % s)"
   ]
  }
 ],
 "metadata": {
  "kernelspec": {
   "display_name": "Python 3",
   "language": "python",
   "name": "python3"
  },
  "language_info": {
   "codemirror_mode": {
    "name": "ipython",
    "version": 3
   },
   "file_extension": ".py",
   "mimetype": "text/x-python",
   "name": "python",
   "nbconvert_exporter": "python",
   "pygments_lexer": "ipython3",
   "version": "3.8.8"
  }
 },
 "nbformat": 4,
 "nbformat_minor": 5
}
