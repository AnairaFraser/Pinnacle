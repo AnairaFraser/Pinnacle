{
 "cells": [
  {
   "cell_type": "markdown",
   "id": "e2177ce0",
   "metadata": {},
   "source": [
    "## Exercise 1: Sum of Digits"
   ]
  },
  {
   "cell_type": "code",
   "execution_count": 4,
   "id": "b705a338",
   "metadata": {},
   "outputs": [
    {
     "name": "stdout",
     "output_type": "stream",
     "text": [
      "Enter a value: 12345\n",
      "15\n"
     ]
    }
   ],
   "source": [
    "n = input('Enter a value: ')\n",
    "s = sum([int(i) for i in n])\n",
    "print(s)"
   ]
  },
  {
   "cell_type": "markdown",
   "id": "20141b91",
   "metadata": {},
   "source": [
    "## Exercise 2: Zip, Zap, Zoom"
   ]
  },
  {
   "cell_type": "code",
   "execution_count": 14,
   "id": "e5055e7d",
   "metadata": {},
   "outputs": [
    {
     "name": "stdout",
     "output_type": "stream",
     "text": [
      "Enter a number: 15\n",
      "Zoom\n"
     ]
    }
   ],
   "source": [
    "n = int(input('Enter a number: '))\n",
    "a = n%3==0\n",
    "b = n%5==0\n",
    "if all((a,b)): print('Zoom') #if n is divisible by 3 and 5\n",
    "elif a: print('Zip') #if n is only divisible by 3\n",
    "elif b: print('Zap') #if n is only divisible by 5\n",
    "else: print('Invalid') #if n isn't divisible by 3 nor 5"
   ]
  }
 ],
 "metadata": {
  "kernelspec": {
   "display_name": "Python 3",
   "language": "python",
   "name": "python3"
  },
  "language_info": {
   "codemirror_mode": {
    "name": "ipython",
    "version": 3
   },
   "file_extension": ".py",
   "mimetype": "text/x-python",
   "name": "python",
   "nbconvert_exporter": "python",
   "pygments_lexer": "ipython3",
   "version": "3.8.8"
  }
 },
 "nbformat": 4,
 "nbformat_minor": 5
}
