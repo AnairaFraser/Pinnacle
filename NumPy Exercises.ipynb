{
 "cells": [
  {
   "cell_type": "markdown",
   "id": "3fdc273d",
   "metadata": {},
   "source": [
    "<div align=\"justify\"><b>Lee decides to walk 10000 steps every day to combat the effect that lockdown has had on his body’s agility, mobility, flexibility and strength. Consider the following data from fitness tracker over a period of 10 days:</b></div>\n",
    "\n",
    "| Day Number | Steps Walked |\n",
    "| --- | --- |\n",
    "| 1 | 6012 |\n",
    "| 2 | 7079 |\n",
    "| 3 | 6886 |\n",
    "| 4 | 7230 |\n",
    "| 5 | 4598 |\n",
    "| 6 | 5564 |\n",
    "| 7 | 6971 |\n",
    "| 8 | 7763 |\n",
    "| 9 | 8032 |\n",
    "| 10 | 9569 |"
   ]
  },
  {
   "cell_type": "code",
   "execution_count": 1,
   "id": "4a9e475a",
   "metadata": {},
   "outputs": [],
   "source": [
    "import numpy as np"
   ]
  },
  {
   "cell_type": "markdown",
   "id": "3451defb",
   "metadata": {},
   "source": [
    "<div align=\"justify\"><b>1) Represent the above data in a 10x2 array. In each row, the first element should contain day number and second element should contain steps walked.</b></div>"
   ]
  },
  {
   "cell_type": "code",
   "execution_count": 2,
   "id": "6667ecf0",
   "metadata": {},
   "outputs": [
    {
     "name": "stdout",
     "output_type": "stream",
     "text": [
      "Array:\n",
      "\n",
      "1 6012\n",
      "2 7079\n",
      "3 6886\n",
      "4 7230\n",
      "5 4598\n",
      "6 5564\n",
      "7 6971\n",
      "8 7763\n",
      "9 8032\n",
      "10 9569\n"
     ]
    }
   ],
   "source": [
    "A = np.array([[1,6012],[2,7079],[3,6886],[4,7230],[5,4598],[6,5564],[7,6971],[8,7763],[9,8032],[10,9569]])\n",
    "print('Array:\\n')\n",
    "for r in A: print(*r)"
   ]
  },
  {
   "cell_type": "markdown",
   "id": "6c60f0dd",
   "metadata": {},
   "source": [
    "<div align=\"justify\"><b> 2) Lee notices that the tracker’s battery dies every day at 7 pm. Lee discovers that on an average, he walks 2000 steps every day after 7 pm. Perform an appropriate operation on your array to add 2000 steps to all the observations.</b></div>"
   ]
  },
  {
   "cell_type": "code",
   "execution_count": 3,
   "id": "a8ccaecf",
   "metadata": {},
   "outputs": [
    {
     "name": "stdout",
     "output_type": "stream",
     "text": [
      "New Array:\n",
      "\n",
      "1 8012\n",
      "2 9079\n",
      "3 8886\n",
      "4 9230\n",
      "5 6598\n",
      "6 7564\n",
      "7 8971\n",
      "8 9763\n",
      "9 10032\n",
      "10 11569\n"
     ]
    }
   ],
   "source": [
    "new = np.add(A,[0,2000])\n",
    "print('New Array:\\n')\n",
    "for r in new: print(*r)"
   ]
  },
  {
   "cell_type": "markdown",
   "id": "8fd2b108",
   "metadata": {},
   "source": [
    "<div align=\"justify\"><b>3) Write a program that returns the steps walked if the steps walked are more than 9000.</b></div>"
   ]
  },
  {
   "cell_type": "code",
   "execution_count": 4,
   "id": "f0d44cd2",
   "metadata": {},
   "outputs": [
    {
     "name": "stdout",
     "output_type": "stream",
     "text": [
      "9000+ Steps:\n",
      "\n",
      "10 9569\n"
     ]
    }
   ],
   "source": [
    "ind = np.where(A > 9000)[0]\n",
    "F = A[ind]\n",
    "print('9000+ Steps:\\n')\n",
    "for r in F: print(*r)"
   ]
  },
  {
   "cell_type": "markdown",
   "id": "18a038b6",
   "metadata": {},
   "source": [
    "<div align=\"justify\"><b>4) Print an array containing steps walked in sorted order.</b></div>"
   ]
  },
  {
   "cell_type": "code",
   "execution_count": 5,
   "id": "b6669f1a",
   "metadata": {},
   "outputs": [
    {
     "name": "stdout",
     "output_type": "stream",
     "text": [
      "Sorted Array:\n",
      "\n",
      "5 4598\n",
      "6 5564\n",
      "1 6012\n",
      "3 6886\n",
      "7 6971\n",
      "2 7079\n",
      "4 7230\n",
      "8 7763\n",
      "9 8032\n",
      "10 9569\n"
     ]
    }
   ],
   "source": [
    "sortA = A[A[:,1].argsort()]\n",
    "print('Sorted Array:\\n')\n",
    "for r in sortA: print(*r)"
   ]
  }
 ],
 "metadata": {
  "kernelspec": {
   "display_name": "Python 3",
   "language": "python",
   "name": "python3"
  },
  "language_info": {
   "codemirror_mode": {
    "name": "ipython",
    "version": 3
   },
   "file_extension": ".py",
   "mimetype": "text/x-python",
   "name": "python",
   "nbconvert_exporter": "python",
   "pygments_lexer": "ipython3",
   "version": "3.8.8"
  }
 },
 "nbformat": 4,
 "nbformat_minor": 5
}
