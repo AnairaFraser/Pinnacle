{
 "cells": [
  {
   "cell_type": "markdown",
   "id": "678ba9ef",
   "metadata": {},
   "source": [
    "### 1) Encryption"
   ]
  },
  {
   "cell_type": "code",
   "execution_count": 1,
   "id": "cec2880a",
   "metadata": {},
   "outputs": [
    {
     "name": "stdout",
     "output_type": "stream",
     "text": [
      "Enter a message: Peter Piper picked a peck of pickled peppers\n",
      "Encrypted Message: reteP Pprie dekcip a kcep fo delkcip ppprsee\n"
     ]
    }
   ],
   "source": [
    "'''\n",
    "Encrypts a message according to the following rules:\n",
    "    - Reverses every odd word\n",
    "    - Rearranges the characters of every even word so that all of its consonants appear before the vowels\n",
    "'''\n",
    "def encrypt_sentence(msg):\n",
    "    t = 1\n",
    "    enc = []\n",
    "    for w in msg:\n",
    "        if t: enc.append(w[::-1])\n",
    "        else:\n",
    "            v = ''\n",
    "            c = ''\n",
    "            for l in w:\n",
    "                if l in 'aeiouAEIOU': v+=l\n",
    "                else: c+=l\n",
    "            n = c+v\n",
    "            enc.append(n)\n",
    "        t = 1 - t\n",
    "    return ' '.join(enc)\n",
    "    \n",
    "S = input('Enter a message: ').split()\n",
    "print('Encrypted Message:', encrypt_sentence(S))"
   ]
  },
  {
   "cell_type": "markdown",
   "id": "00e08f6d",
   "metadata": {},
   "source": [
    "### 2-3) Character Numbers & Word Numbers"
   ]
  },
  {
   "cell_type": "code",
   "execution_count": 2,
   "id": "04b2d3ad",
   "metadata": {},
   "outputs": [
    {
     "name": "stdout",
     "output_type": "stream",
     "text": [
      "Enter a sentence: Y por eso los grandes amores de muchos colores me gustan a mí\n",
      "Number of Characters: 61\n",
      "Number of Words: 13\n"
     ]
    }
   ],
   "source": [
    "S = input('Enter a sentence: ')\n",
    "c = len(S) #finds the number of characters in the sentence\n",
    "w = len(S.split()) #finds the number of words in the sentence\n",
    "print(f'Number of Characters: {c}')\n",
    "print(f'Number of Words: {w}')"
   ]
  },
  {
   "cell_type": "markdown",
   "id": "30b4d717",
   "metadata": {},
   "source": [
    "### 4) Words Count"
   ]
  },
  {
   "cell_type": "code",
   "execution_count": 3,
   "id": "e1f24e82",
   "metadata": {},
   "outputs": [
    {
     "name": "stdout",
     "output_type": "stream",
     "text": [
      "Enter a sentence: You must be the change you wish to see in the world\n",
      "{3: 5, 4: 2, 2: 3, 6: 1, 5: 1}\n"
     ]
    }
   ],
   "source": [
    "'''\n",
    "Returns a dictionary with the word length as the key, and the number of words with such length as the value\n",
    "'''\n",
    "def words_count(sentence):\n",
    "    D = {}\n",
    "    for w in sentence.split():\n",
    "        L = len(w)\n",
    "        if L in D: D[L] += 1\n",
    "        else: D[L] = 1\n",
    "    return D\n",
    "\n",
    "S = input('Enter a sentence: ')\n",
    "print(words_count(S))"
   ]
  },
  {
   "cell_type": "markdown",
   "id": "2b8beb5f",
   "metadata": {},
   "source": [
    "### 5) Vowel Count"
   ]
  },
  {
   "cell_type": "code",
   "execution_count": 4,
   "id": "b757fa44",
   "metadata": {},
   "outputs": [
    {
     "name": "stdout",
     "output_type": "stream",
     "text": [
      "Enter a sentence: Kaeru pyoko-pyoko mi pyoko-pyoko, awasete pyoko-pyoko mu pyoko-pyoko\n",
      "{'Vowels': 25, 'Consonants': 31, 'Others': 12}\n"
     ]
    }
   ],
   "source": [
    "'''\n",
    "Returns a dictionary with the number of vowels, consonants, and other (non-alphabetical) characters\n",
    "'''\n",
    "def vowel_count(sentence):\n",
    "    D = {'Vowels':0, 'Consonants':0, 'Others':0}\n",
    "    v = 'aeiouAEIOU'\n",
    "    for l in sentence:\n",
    "        if l in v: D['Vowels'] += 1\n",
    "        elif l.isalpha(): D['Consonants'] += 1\n",
    "        else: D['Others'] += 1\n",
    "    return D\n",
    "\n",
    "S = input('Enter a sentence: ')\n",
    "print(vowel_count(S))"
   ]
  }
 ],
 "metadata": {
  "kernelspec": {
   "display_name": "Python 3",
   "language": "python",
   "name": "python3"
  },
  "language_info": {
   "codemirror_mode": {
    "name": "ipython",
    "version": 3
   },
   "file_extension": ".py",
   "mimetype": "text/x-python",
   "name": "python",
   "nbconvert_exporter": "python",
   "pygments_lexer": "ipython3",
   "version": "3.8.8"
  }
 },
 "nbformat": 4,
 "nbformat_minor": 5
}
