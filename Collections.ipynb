{
 "cells": [
  {
   "cell_type": "markdown",
   "id": "f116ebfb",
   "metadata": {},
   "source": [
    "# Exercise 1: Adjacent Occurences"
   ]
  },
  {
   "cell_type": "code",
   "execution_count": 1,
   "id": "52482d1c",
   "metadata": {},
   "outputs": [
    {
     "name": "stdout",
     "output_type": "stream",
     "text": [
      "Adjacent Occurences in A: 3\n",
      "Adjacent Occurences in B: 0\n",
      "Adjacent Occurences in C: 3\n"
     ]
    }
   ],
   "source": [
    "from math import sqrt\n",
    "\n",
    "'''\n",
    "Input: an integer list\n",
    "Output: the number of times the list contains the same number in adjacent positions\n",
    "'''\n",
    "def fun(arr):\n",
    "    n = 0\n",
    "    for i in range(len(arr)-1):\n",
    "        if arr[i]==arr[i+1]: n+=1\n",
    "    return n\n",
    "\n",
    "A = [1,1,5,100,-20,-20,6,0,0]\n",
    "B = [10,20,30,40,30,20]\n",
    "C = [1,2,2,3,4,4,4,10]\n",
    "\n",
    "x = fun(A)\n",
    "y = fun(B)\n",
    "z = fun(C)\n",
    "\n",
    "print(f'Adjacent Occurences in A: {x}')\n",
    "print(f'Adjacent Occurences in B: {y}')\n",
    "print(f'Adjacent Occurences in C: {z}')"
   ]
  },
  {
   "cell_type": "markdown",
   "id": "64f091d4",
   "metadata": {},
   "source": [
    "# Exercise 2: Plane Tickets"
   ]
  },
  {
   "cell_type": "code",
   "execution_count": 2,
   "id": "9bb4d847",
   "metadata": {},
   "outputs": [
    {
     "name": "stdout",
     "output_type": "stream",
     "text": [
      "AL1:LOS:HON:103\n",
      "AL1:ATL:NEW:104\n",
      "AL1:ARL:LON:105\n",
      "AL1:ROM:TOK:106\n",
      "AL1:BER:OSL:107\n"
     ]
    }
   ],
   "source": [
    "'''\n",
    "Input: A list of (Departure City, Destination City) tuples\n",
    "Output:\n",
    "    - The last five ticket values (in the format 'AL1:src:dest:num') in the list\n",
    "    - Alternatively, if there are less than 5 tuples, the set of tickets\n",
    "    \n",
    "Note:\n",
    "    - src: the first three capitialized characters in the Departure City\n",
    "    - dest: the first three capitalized characters in the Destination City\n",
    "    - num: an auto-generated number starting from 101\n",
    "'''\n",
    "def fun2(P): #input: a list of (src,dest) tuples\n",
    "    T = []\n",
    "    num = 101\n",
    "    for i in P:\n",
    "        src = i[0][:3].upper()\n",
    "        dest = i[1][:3].upper()\n",
    "        T.append(f'AL1:{src}:{dest}:{num}')\n",
    "        num+=1\n",
    "    if len(P) <= 5: return T\n",
    "    else: return T[-5:]\n",
    "\n",
    "passengers = [('Baltimore','Chicago'),('Dulles','Seattle'),('Los Angeles','Honolulu'),('Atlanta','New York City'),\n",
    "             ('Arlington','London'),('Rome','Tokyo'),('Berlin','Oslo')]\n",
    "\n",
    "tickets = fun2(passengers)\n",
    "for t in tickets: print(t)"
   ]
  },
  {
   "cell_type": "markdown",
   "id": "d51b688c",
   "metadata": {},
   "source": [
    "# Exercise 3: Collections"
   ]
  },
  {
   "cell_type": "markdown",
   "id": "84ec1a57",
   "metadata": {},
   "source": [
    "### 1) Proper Divisors"
   ]
  },
  {
   "cell_type": "code",
   "execution_count": 3,
   "id": "39a94ddc",
   "metadata": {},
   "outputs": [
    {
     "name": "stdout",
     "output_type": "stream",
     "text": [
      "Enter a number: 800\n",
      "Divisors of 800: 1 2 4 5 8 10 16 20 25 32 40 50 80 100 160 200 400 800\n"
     ]
    }
   ],
   "source": [
    "'''\n",
    "Input: a positive integer n\n",
    "Output: the (sorted) set of factors of n\n",
    "'''\n",
    "def divisors(n):\n",
    "    F = set()\n",
    "    i = 1\n",
    "    while i <= sqrt(n):\n",
    "        if n%i==0:\n",
    "            F.add(i)\n",
    "            F.add(n//i)\n",
    "        i+=1\n",
    "    return sorted(F)\n",
    "\n",
    "x = int(input('Enter a number: '))\n",
    "if x<=0: print('Positive numbers only')\n",
    "else:\n",
    "    D = divisors(x)\n",
    "    print(f'Divisors of {x}:', end = ' ')\n",
    "    print(*D)"
   ]
  },
  {
   "cell_type": "markdown",
   "id": "72407bdd",
   "metadata": {},
   "source": [
    "### 2) Generate Fibonacci"
   ]
  },
  {
   "cell_type": "code",
   "execution_count": 4,
   "id": "a601376f",
   "metadata": {},
   "outputs": [
    {
     "name": "stdout",
     "output_type": "stream",
     "text": [
      "Enter a number: 16\n",
      "First 16 Fibonacci Numbers: 0 1 1 2 3 5 8 13 21 34 55 89 144 233 377 610\n"
     ]
    }
   ],
   "source": [
    "'''\n",
    "Input: a positive integer n\n",
    "Output: a list of the first n numbers in the Fibonacci sequence\n",
    "'''\n",
    "def fib(n):\n",
    "    F = [0,1]\n",
    "    while len(F) != n: F.append(sum(F[-2:]))\n",
    "    return F\n",
    "\n",
    "x = int(input('Enter a number: '))\n",
    "if x<=0: print('Positive numbers only')\n",
    "elif x==1: print('First Fibonacci Number: 0')\n",
    "else:\n",
    "    F = fib(x)\n",
    "    print(f'First {x} Fibonacci Numbers:', end = ' ')\n",
    "    print(*F)"
   ]
  },
  {
   "cell_type": "markdown",
   "id": "59de08c8",
   "metadata": {},
   "source": [
    "### First 15 Leap Years"
   ]
  },
  {
   "cell_type": "code",
   "execution_count": 5,
   "id": "188c17ad",
   "metadata": {},
   "outputs": [
    {
     "name": "stdout",
     "output_type": "stream",
     "text": [
      "Enter a year: 1900\n",
      "First 15 leap years since Year 1900: 1904 1908 1912 1916 1920 1924 1928 1932 1936 1940 1944 1948 1952 1956 1960\n"
     ]
    }
   ],
   "source": [
    "'''\n",
    "Input: a year y\n",
    "Output: True, if the year is a leap year; otherwise, False\n",
    "'''\n",
    "def leap_year(y):\n",
    "    a = y % 4 == 0\n",
    "    b = y % 100 != 0\n",
    "    c = y % 400 == 0\n",
    "    return (a and b) or c\n",
    "\n",
    "'''\n",
    "Input: a year y\n",
    "Output: a list of the first 15 years since Year y\n",
    "'''\n",
    "def first_15(y):\n",
    "    arr = []\n",
    "    while len(arr) != 15:\n",
    "        if leap_year(y): arr.append(y)\n",
    "        y+=1\n",
    "    return arr\n",
    "\n",
    "y = int(input('Enter a year: '))\n",
    "if y < 0: print('No negative numbers allowed')\n",
    "else:\n",
    "    A = first_15(y)\n",
    "    print(f'First 15 leap years since Year {y}:', end = ' ')\n",
    "    print(*A)"
   ]
  },
  {
   "cell_type": "markdown",
   "id": "b25fbeb4",
   "metadata": {},
   "source": [
    "### 4) Run-Length Encoding"
   ]
  },
  {
   "cell_type": "code",
   "execution_count": 6,
   "id": "9aa33ea5",
   "metadata": {},
   "outputs": [
    {
     "name": "stdout",
     "output_type": "stream",
     "text": [
      "Enter a message: OOOOOOFFFFFFFFFOOOOOOOOOSSSSSSSSSSS\n",
      "Run-Length Encoded Message: O6F9O9S11\n"
     ]
    }
   ],
   "source": [
    "'''\n",
    "Input: a string message m (in all caps)\n",
    "Output: the run-length encoded message\n",
    "'''\n",
    "def encode(m):\n",
    "    e = ''\n",
    "    ch = m[0]\n",
    "    n = 1\n",
    "    for i in range(1,len(m)):\n",
    "        if m[i] == ch: n+=1\n",
    "        else:\n",
    "            e += f'{ch}{n}'\n",
    "            ch = m[i]\n",
    "            n = 1\n",
    "    e += f'{ch}{n}'\n",
    "    return e\n",
    "\n",
    "s = input('Enter a message: ').upper() #converts a string to uppercase if needed be\n",
    "t = encode(s)\n",
    "print('Run-Length Encoded Message:',t)"
   ]
  },
  {
   "cell_type": "markdown",
   "id": "029cc1c7",
   "metadata": {},
   "source": [
    "### 5) Seasonal Greetings"
   ]
  },
  {
   "cell_type": "code",
   "execution_count": 7,
   "id": "d57ca8a8",
   "metadata": {},
   "outputs": [
    {
     "name": "stdout",
     "output_type": "stream",
     "text": [
      "Message: merry christmas\n",
      "In Swedish: god jul\n"
     ]
    }
   ],
   "source": [
    "'''\n",
    "Inputs:\n",
    "    - A bilingual dictionary\n",
    "    - The list of words to translate\n",
    "Output: The translated message\n",
    "'''\n",
    "def translate(b_dict, words):\n",
    "    t = [b_dict[w] for w in words]\n",
    "    return ' '.join(t)\n",
    "\n",
    "eng_swe = {'merry':'god', 'christmas':'jul', 'and':'och', 'happy':'gott', 'new':'nytt', 'year':'ar'}\n",
    "inp = input('Message: ').lower()\n",
    "m = inp.split()\n",
    "try:\n",
    "    t = translate(eng_swe,m)\n",
    "    print('In Swedish:',t)\n",
    "except KeyError: print('Word not found...')"
   ]
  }
 ],
 "metadata": {
  "kernelspec": {
   "display_name": "Python 3",
   "language": "python",
   "name": "python3"
  },
  "language_info": {
   "codemirror_mode": {
    "name": "ipython",
    "version": 3
   },
   "file_extension": ".py",
   "mimetype": "text/x-python",
   "name": "python",
   "nbconvert_exporter": "python",
   "pygments_lexer": "ipython3",
   "version": "3.8.8"
  }
 },
 "nbformat": 4,
 "nbformat_minor": 5
}
